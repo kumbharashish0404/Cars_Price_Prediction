{
 "cells": [
  {
   "cell_type": "code",
   "execution_count": 1,
   "id": "045f254e",
   "metadata": {},
   "outputs": [],
   "source": [
    "import pandas as pd\n",
    "import numpy as np"
   ]
  },
  {
   "cell_type": "code",
   "execution_count": 2,
   "id": "f8ed4011",
   "metadata": {},
   "outputs": [],
   "source": [
    "###################### Data Preprocessing ############################\n",
    "\n",
    "from sklearn.preprocessing import LabelEncoder\n",
    "from sklearn.model_selection import train_test_split"
   ]
  },
  {
   "cell_type": "code",
   "execution_count": 3,
   "id": "da9a7d62",
   "metadata": {},
   "outputs": [],
   "source": [
    "###################### Model Development ###############################\n",
    "\n",
    "from sklearn.linear_model import LinearRegression, Lasso, ElasticNet\n",
    "from sklearn.neighbors import KNeighborsRegressor\n",
    "from sklearn.tree import DecisionTreeRegressor\n",
    "from sklearn.ensemble import RandomForestRegressor, AdaBoostRegressor, GradientBoostingRegressor"
   ]
  },
  {
   "cell_type": "code",
   "execution_count": 4,
   "id": "10d47790",
   "metadata": {},
   "outputs": [],
   "source": [
    "################## Accuracy Check #######################\n",
    "from sklearn.metrics import r2_score"
   ]
  },
  {
   "cell_type": "code",
   "execution_count": 5,
   "id": "ce2e00a4",
   "metadata": {},
   "outputs": [],
   "source": [
    "################ Warnings Ingore ############\n",
    "\n",
    "import warnings\n",
    "warnings.filterwarnings('ignore')"
   ]
  },
  {
   "cell_type": "markdown",
   "id": "06898bb5",
   "metadata": {},
   "source": [
    "# Data Import "
   ]
  },
  {
   "cell_type": "code",
   "execution_count": 6,
   "id": "d39ea5b1",
   "metadata": {},
   "outputs": [
    {
     "data": {
      "text/html": [
       "<div>\n",
       "<style scoped>\n",
       "    .dataframe tbody tr th:only-of-type {\n",
       "        vertical-align: middle;\n",
       "    }\n",
       "\n",
       "    .dataframe tbody tr th {\n",
       "        vertical-align: top;\n",
       "    }\n",
       "\n",
       "    .dataframe thead th {\n",
       "        text-align: right;\n",
       "    }\n",
       "</style>\n",
       "<table border=\"1\" class=\"dataframe\">\n",
       "  <thead>\n",
       "    <tr style=\"text-align: right;\">\n",
       "      <th></th>\n",
       "      <th>name</th>\n",
       "      <th>year</th>\n",
       "      <th>km_driven</th>\n",
       "      <th>fuel</th>\n",
       "      <th>seller_type</th>\n",
       "      <th>transmission</th>\n",
       "      <th>owner</th>\n",
       "      <th>Rating</th>\n",
       "      <th>ExShowroom Price</th>\n",
       "      <th>selling_price</th>\n",
       "    </tr>\n",
       "  </thead>\n",
       "  <tbody>\n",
       "    <tr>\n",
       "      <th>0</th>\n",
       "      <td>Tata Indica Vista Aqua 1.4 TDI</td>\n",
       "      <td>2010</td>\n",
       "      <td>120000</td>\n",
       "      <td>Diesel</td>\n",
       "      <td>Individual</td>\n",
       "      <td>Manual</td>\n",
       "      <td>Second Owner</td>\n",
       "      <td>9.0</td>\n",
       "      <td>106001</td>\n",
       "      <td>100000</td>\n",
       "    </tr>\n",
       "    <tr>\n",
       "      <th>1</th>\n",
       "      <td>Tata Nano Lx BSIV</td>\n",
       "      <td>2012</td>\n",
       "      <td>50000</td>\n",
       "      <td>Petrol</td>\n",
       "      <td>Individual</td>\n",
       "      <td>Manual</td>\n",
       "      <td>Second Owner</td>\n",
       "      <td>9.0</td>\n",
       "      <td>108556</td>\n",
       "      <td>100000</td>\n",
       "    </tr>\n",
       "  </tbody>\n",
       "</table>\n",
       "</div>"
      ],
      "text/plain": [
       "                             name  year  km_driven    fuel seller_type  \\\n",
       "0  Tata Indica Vista Aqua 1.4 TDI  2010     120000  Diesel  Individual   \n",
       "1               Tata Nano Lx BSIV  2012      50000  Petrol  Individual   \n",
       "\n",
       "  transmission         owner  Rating  ExShowroom Price  selling_price  \n",
       "0       Manual  Second Owner     9.0            106001         100000  \n",
       "1       Manual  Second Owner     9.0            108556         100000  "
      ]
     },
     "execution_count": 6,
     "metadata": {},
     "output_type": "execute_result"
    }
   ],
   "source": [
    "data = pd.read_csv('SecondCar.csv')\n",
    "data.head(2)"
   ]
  },
  {
   "cell_type": "markdown",
   "id": "543479cf",
   "metadata": {},
   "source": [
    "# Data Preprocessing\n",
    "\n",
    "    1. Data duplicates -- remove\n",
    "    2. Missing value > 75% -->> remove column\n",
    "    3. Missing value treatment\n",
    "    4. Unique Value based removal -->> when unique value == 1 or unique value == len(data)\n",
    "    5. Feature engineering -->> variety reduction\n",
    "    6. Label Encoding -->> Alphabetical order converted to numbers\n",
    "    6.5. Correlation -->> \n",
    "    "
   ]
  },
  {
   "cell_type": "markdown",
   "id": "33f6c412",
   "metadata": {},
   "source": [
    "# Step 1. Duplicate Data"
   ]
  },
  {
   "cell_type": "code",
   "execution_count": 7,
   "id": "e6f2c706",
   "metadata": {},
   "outputs": [
    {
     "name": "stdout",
     "output_type": "stream",
     "text": [
      "Before duplicate removal  -->> 4340\n"
     ]
    }
   ],
   "source": [
    "print('Before duplicate removal  -->>', len(data))"
   ]
  },
  {
   "cell_type": "code",
   "execution_count": 8,
   "id": "4955a7f9",
   "metadata": {},
   "outputs": [],
   "source": [
    "data = data.drop_duplicates(keep='first')"
   ]
  },
  {
   "cell_type": "code",
   "execution_count": 9,
   "id": "358dc91f",
   "metadata": {},
   "outputs": [
    {
     "name": "stdout",
     "output_type": "stream",
     "text": [
      "After duplicate removal -->> 4340\n"
     ]
    }
   ],
   "source": [
    "print('After duplicate removal -->>', len(data))"
   ]
  },
  {
   "cell_type": "markdown",
   "id": "d7545e03",
   "metadata": {},
   "source": [
    "# Step 2. Missing value > 75%"
   ]
  },
  {
   "cell_type": "code",
   "execution_count": 10,
   "id": "eecf0426",
   "metadata": {
    "scrolled": true
   },
   "outputs": [
    {
     "data": {
      "text/plain": [
       "name                0\n",
       "year                0\n",
       "km_driven           0\n",
       "fuel                3\n",
       "seller_type         2\n",
       "transmission        2\n",
       "owner               3\n",
       "Rating              4\n",
       "ExShowroom Price    0\n",
       "selling_price       0\n",
       "dtype: int64"
      ]
     },
     "execution_count": 10,
     "metadata": {},
     "output_type": "execute_result"
    }
   ],
   "source": [
    "data.isna().sum()"
   ]
  },
  {
   "cell_type": "code",
   "execution_count": 11,
   "id": "8b13e1ba",
   "metadata": {},
   "outputs": [
    {
     "data": {
      "text/html": [
       "<div>\n",
       "<style scoped>\n",
       "    .dataframe tbody tr th:only-of-type {\n",
       "        vertical-align: middle;\n",
       "    }\n",
       "\n",
       "    .dataframe tbody tr th {\n",
       "        vertical-align: top;\n",
       "    }\n",
       "\n",
       "    .dataframe thead th {\n",
       "        text-align: right;\n",
       "    }\n",
       "</style>\n",
       "<table border=\"1\" class=\"dataframe\">\n",
       "  <thead>\n",
       "    <tr style=\"text-align: right;\">\n",
       "      <th></th>\n",
       "      <th>missing_value_count</th>\n",
       "    </tr>\n",
       "  </thead>\n",
       "  <tbody>\n",
       "    <tr>\n",
       "      <th>name</th>\n",
       "      <td>0</td>\n",
       "    </tr>\n",
       "    <tr>\n",
       "      <th>year</th>\n",
       "      <td>0</td>\n",
       "    </tr>\n",
       "    <tr>\n",
       "      <th>km_driven</th>\n",
       "      <td>0</td>\n",
       "    </tr>\n",
       "    <tr>\n",
       "      <th>fuel</th>\n",
       "      <td>3</td>\n",
       "    </tr>\n",
       "    <tr>\n",
       "      <th>seller_type</th>\n",
       "      <td>2</td>\n",
       "    </tr>\n",
       "    <tr>\n",
       "      <th>transmission</th>\n",
       "      <td>2</td>\n",
       "    </tr>\n",
       "    <tr>\n",
       "      <th>owner</th>\n",
       "      <td>3</td>\n",
       "    </tr>\n",
       "    <tr>\n",
       "      <th>Rating</th>\n",
       "      <td>4</td>\n",
       "    </tr>\n",
       "    <tr>\n",
       "      <th>ExShowroom Price</th>\n",
       "      <td>0</td>\n",
       "    </tr>\n",
       "    <tr>\n",
       "      <th>selling_price</th>\n",
       "      <td>0</td>\n",
       "    </tr>\n",
       "  </tbody>\n",
       "</table>\n",
       "</div>"
      ],
      "text/plain": [
       "                  missing_value_count\n",
       "name                                0\n",
       "year                                0\n",
       "km_driven                           0\n",
       "fuel                                3\n",
       "seller_type                         2\n",
       "transmission                        2\n",
       "owner                               3\n",
       "Rating                              4\n",
       "ExShowroom Price                    0\n",
       "selling_price                       0"
      ]
     },
     "execution_count": 11,
     "metadata": {},
     "output_type": "execute_result"
    }
   ],
   "source": [
    "missing_value_df = pd.DataFrame(data.isna().sum(), columns=['missing_value_count'])\n",
    "missing_value_df"
   ]
  },
  {
   "cell_type": "code",
   "execution_count": 12,
   "id": "9d4c263e",
   "metadata": {},
   "outputs": [
    {
     "data": {
      "text/html": [
       "<div>\n",
       "<style scoped>\n",
       "    .dataframe tbody tr th:only-of-type {\n",
       "        vertical-align: middle;\n",
       "    }\n",
       "\n",
       "    .dataframe tbody tr th {\n",
       "        vertical-align: top;\n",
       "    }\n",
       "\n",
       "    .dataframe thead th {\n",
       "        text-align: right;\n",
       "    }\n",
       "</style>\n",
       "<table border=\"1\" class=\"dataframe\">\n",
       "  <thead>\n",
       "    <tr style=\"text-align: right;\">\n",
       "      <th></th>\n",
       "      <th>missing_value_count</th>\n",
       "      <th>perc</th>\n",
       "    </tr>\n",
       "  </thead>\n",
       "  <tbody>\n",
       "    <tr>\n",
       "      <th>name</th>\n",
       "      <td>0</td>\n",
       "      <td>0.000000</td>\n",
       "    </tr>\n",
       "    <tr>\n",
       "      <th>year</th>\n",
       "      <td>0</td>\n",
       "      <td>0.000000</td>\n",
       "    </tr>\n",
       "    <tr>\n",
       "      <th>km_driven</th>\n",
       "      <td>0</td>\n",
       "      <td>0.000000</td>\n",
       "    </tr>\n",
       "    <tr>\n",
       "      <th>fuel</th>\n",
       "      <td>3</td>\n",
       "      <td>0.069124</td>\n",
       "    </tr>\n",
       "    <tr>\n",
       "      <th>seller_type</th>\n",
       "      <td>2</td>\n",
       "      <td>0.046083</td>\n",
       "    </tr>\n",
       "    <tr>\n",
       "      <th>transmission</th>\n",
       "      <td>2</td>\n",
       "      <td>0.046083</td>\n",
       "    </tr>\n",
       "    <tr>\n",
       "      <th>owner</th>\n",
       "      <td>3</td>\n",
       "      <td>0.069124</td>\n",
       "    </tr>\n",
       "    <tr>\n",
       "      <th>Rating</th>\n",
       "      <td>4</td>\n",
       "      <td>0.092166</td>\n",
       "    </tr>\n",
       "    <tr>\n",
       "      <th>ExShowroom Price</th>\n",
       "      <td>0</td>\n",
       "      <td>0.000000</td>\n",
       "    </tr>\n",
       "    <tr>\n",
       "      <th>selling_price</th>\n",
       "      <td>0</td>\n",
       "      <td>0.000000</td>\n",
       "    </tr>\n",
       "  </tbody>\n",
       "</table>\n",
       "</div>"
      ],
      "text/plain": [
       "                  missing_value_count      perc\n",
       "name                                0  0.000000\n",
       "year                                0  0.000000\n",
       "km_driven                           0  0.000000\n",
       "fuel                                3  0.069124\n",
       "seller_type                         2  0.046083\n",
       "transmission                        2  0.046083\n",
       "owner                               3  0.069124\n",
       "Rating                              4  0.092166\n",
       "ExShowroom Price                    0  0.000000\n",
       "selling_price                       0  0.000000"
      ]
     },
     "execution_count": 12,
     "metadata": {},
     "output_type": "execute_result"
    }
   ],
   "source": [
    "missing_value_df['perc'] = 100*missing_value_df['missing_value_count']/len(data)\n",
    "missing_value_df"
   ]
  },
  {
   "cell_type": "markdown",
   "id": "f8e4af1e",
   "metadata": {},
   "source": [
    "##### filter dataframe based on threshold value"
   ]
  },
  {
   "cell_type": "code",
   "execution_count": 13,
   "id": "fb61c6b9",
   "metadata": {},
   "outputs": [
    {
     "data": {
      "text/html": [
       "<div>\n",
       "<style scoped>\n",
       "    .dataframe tbody tr th:only-of-type {\n",
       "        vertical-align: middle;\n",
       "    }\n",
       "\n",
       "    .dataframe tbody tr th {\n",
       "        vertical-align: top;\n",
       "    }\n",
       "\n",
       "    .dataframe thead th {\n",
       "        text-align: right;\n",
       "    }\n",
       "</style>\n",
       "<table border=\"1\" class=\"dataframe\">\n",
       "  <thead>\n",
       "    <tr style=\"text-align: right;\">\n",
       "      <th></th>\n",
       "      <th>missing_value_count</th>\n",
       "      <th>perc</th>\n",
       "    </tr>\n",
       "  </thead>\n",
       "  <tbody>\n",
       "  </tbody>\n",
       "</table>\n",
       "</div>"
      ],
      "text/plain": [
       "Empty DataFrame\n",
       "Columns: [missing_value_count, perc]\n",
       "Index: []"
      ]
     },
     "execution_count": 13,
     "metadata": {},
     "output_type": "execute_result"
    }
   ],
   "source": [
    "missing_value_df[missing_value_df['perc']>75]"
   ]
  },
  {
   "cell_type": "markdown",
   "id": "e8e867ae",
   "metadata": {},
   "source": [
    "##### Store list of columns to be deleted"
   ]
  },
  {
   "cell_type": "code",
   "execution_count": 14,
   "id": "4ede426e",
   "metadata": {},
   "outputs": [
    {
     "data": {
      "text/plain": [
       "[]"
      ]
     },
     "execution_count": 14,
     "metadata": {},
     "output_type": "execute_result"
    }
   ],
   "source": [
    "columns_to_be_deleted = list(missing_value_df[missing_value_df['perc']>75].index)\n",
    "columns_to_be_deleted"
   ]
  },
  {
   "cell_type": "markdown",
   "id": "2ee9984d",
   "metadata": {},
   "source": [
    "##### Delete columns from original data"
   ]
  },
  {
   "cell_type": "code",
   "execution_count": 15,
   "id": "8bc47da5",
   "metadata": {},
   "outputs": [
    {
     "data": {
      "text/html": [
       "<div>\n",
       "<style scoped>\n",
       "    .dataframe tbody tr th:only-of-type {\n",
       "        vertical-align: middle;\n",
       "    }\n",
       "\n",
       "    .dataframe tbody tr th {\n",
       "        vertical-align: top;\n",
       "    }\n",
       "\n",
       "    .dataframe thead th {\n",
       "        text-align: right;\n",
       "    }\n",
       "</style>\n",
       "<table border=\"1\" class=\"dataframe\">\n",
       "  <thead>\n",
       "    <tr style=\"text-align: right;\">\n",
       "      <th></th>\n",
       "      <th>name</th>\n",
       "      <th>year</th>\n",
       "      <th>km_driven</th>\n",
       "      <th>fuel</th>\n",
       "      <th>seller_type</th>\n",
       "      <th>transmission</th>\n",
       "      <th>owner</th>\n",
       "      <th>Rating</th>\n",
       "      <th>ExShowroom Price</th>\n",
       "      <th>selling_price</th>\n",
       "    </tr>\n",
       "  </thead>\n",
       "  <tbody>\n",
       "    <tr>\n",
       "      <th>0</th>\n",
       "      <td>Tata Indica Vista Aqua 1.4 TDI</td>\n",
       "      <td>2010</td>\n",
       "      <td>120000</td>\n",
       "      <td>Diesel</td>\n",
       "      <td>Individual</td>\n",
       "      <td>Manual</td>\n",
       "      <td>Second Owner</td>\n",
       "      <td>9.0</td>\n",
       "      <td>106001</td>\n",
       "      <td>100000</td>\n",
       "    </tr>\n",
       "    <tr>\n",
       "      <th>1</th>\n",
       "      <td>Tata Nano Lx BSIV</td>\n",
       "      <td>2012</td>\n",
       "      <td>50000</td>\n",
       "      <td>Petrol</td>\n",
       "      <td>Individual</td>\n",
       "      <td>Manual</td>\n",
       "      <td>Second Owner</td>\n",
       "      <td>9.0</td>\n",
       "      <td>108556</td>\n",
       "      <td>100000</td>\n",
       "    </tr>\n",
       "  </tbody>\n",
       "</table>\n",
       "</div>"
      ],
      "text/plain": [
       "                             name  year  km_driven    fuel seller_type  \\\n",
       "0  Tata Indica Vista Aqua 1.4 TDI  2010     120000  Diesel  Individual   \n",
       "1               Tata Nano Lx BSIV  2012      50000  Petrol  Individual   \n",
       "\n",
       "  transmission         owner  Rating  ExShowroom Price  selling_price  \n",
       "0       Manual  Second Owner     9.0            106001         100000  \n",
       "1       Manual  Second Owner     9.0            108556         100000  "
      ]
     },
     "execution_count": 15,
     "metadata": {},
     "output_type": "execute_result"
    }
   ],
   "source": [
    "data.head(2)"
   ]
  },
  {
   "cell_type": "code",
   "execution_count": 16,
   "id": "e984bdff",
   "metadata": {},
   "outputs": [
    {
     "data": {
      "text/html": [
       "<div>\n",
       "<style scoped>\n",
       "    .dataframe tbody tr th:only-of-type {\n",
       "        vertical-align: middle;\n",
       "    }\n",
       "\n",
       "    .dataframe tbody tr th {\n",
       "        vertical-align: top;\n",
       "    }\n",
       "\n",
       "    .dataframe thead th {\n",
       "        text-align: right;\n",
       "    }\n",
       "</style>\n",
       "<table border=\"1\" class=\"dataframe\">\n",
       "  <thead>\n",
       "    <tr style=\"text-align: right;\">\n",
       "      <th></th>\n",
       "      <th>name</th>\n",
       "      <th>year</th>\n",
       "      <th>km_driven</th>\n",
       "      <th>fuel</th>\n",
       "      <th>seller_type</th>\n",
       "      <th>transmission</th>\n",
       "      <th>owner</th>\n",
       "      <th>Rating</th>\n",
       "      <th>ExShowroom Price</th>\n",
       "      <th>selling_price</th>\n",
       "    </tr>\n",
       "  </thead>\n",
       "  <tbody>\n",
       "    <tr>\n",
       "      <th>0</th>\n",
       "      <td>Tata Indica Vista Aqua 1.4 TDI</td>\n",
       "      <td>2010</td>\n",
       "      <td>120000</td>\n",
       "      <td>Diesel</td>\n",
       "      <td>Individual</td>\n",
       "      <td>Manual</td>\n",
       "      <td>Second Owner</td>\n",
       "      <td>9.0</td>\n",
       "      <td>106001</td>\n",
       "      <td>100000</td>\n",
       "    </tr>\n",
       "    <tr>\n",
       "      <th>1</th>\n",
       "      <td>Tata Nano Lx BSIV</td>\n",
       "      <td>2012</td>\n",
       "      <td>50000</td>\n",
       "      <td>Petrol</td>\n",
       "      <td>Individual</td>\n",
       "      <td>Manual</td>\n",
       "      <td>Second Owner</td>\n",
       "      <td>9.0</td>\n",
       "      <td>108556</td>\n",
       "      <td>100000</td>\n",
       "    </tr>\n",
       "  </tbody>\n",
       "</table>\n",
       "</div>"
      ],
      "text/plain": [
       "                             name  year  km_driven    fuel seller_type  \\\n",
       "0  Tata Indica Vista Aqua 1.4 TDI  2010     120000  Diesel  Individual   \n",
       "1               Tata Nano Lx BSIV  2012      50000  Petrol  Individual   \n",
       "\n",
       "  transmission         owner  Rating  ExShowroom Price  selling_price  \n",
       "0       Manual  Second Owner     9.0            106001         100000  \n",
       "1       Manual  Second Owner     9.0            108556         100000  "
      ]
     },
     "execution_count": 16,
     "metadata": {},
     "output_type": "execute_result"
    }
   ],
   "source": [
    "data.drop(columns=columns_to_be_deleted, inplace=True)\n",
    "data.head(2)"
   ]
  },
  {
   "cell_type": "code",
   "execution_count": 17,
   "id": "e062d7cc",
   "metadata": {},
   "outputs": [],
   "source": [
    "# missing_value_df = pd.DataFrame(data.isna().sum(), columns=['missing_value_count'])\n",
    "# missing_value_df['perc'] = 100*missing_value_df['missing_value_count']/len(data)\n",
    "# columns_to_be_deleted = list(missing_value_df[missing_value_df['perc']>75].index)\n",
    "# data.drop(columns=columns_to_be_deleted, inplace=True)"
   ]
  },
  {
   "cell_type": "markdown",
   "id": "95edc2c4",
   "metadata": {},
   "source": [
    "# Step 3. Missing Value Treatment"
   ]
  },
  {
   "cell_type": "code",
   "execution_count": 18,
   "id": "706e72d0",
   "metadata": {},
   "outputs": [
    {
     "data": {
      "text/plain": [
       "name                0\n",
       "year                0\n",
       "km_driven           0\n",
       "fuel                3\n",
       "seller_type         2\n",
       "transmission        2\n",
       "owner               3\n",
       "Rating              4\n",
       "ExShowroom Price    0\n",
       "selling_price       0\n",
       "dtype: int64"
      ]
     },
     "execution_count": 18,
     "metadata": {},
     "output_type": "execute_result"
    }
   ],
   "source": [
    "data.isna().sum()"
   ]
  },
  {
   "cell_type": "code",
   "execution_count": 19,
   "id": "5acd7bac",
   "metadata": {},
   "outputs": [],
   "source": [
    "for col in data.columns:\n",
    "    \n",
    "    if data[col].dtype == 'object':\n",
    "#         print(col, '-->>', data[col].dtype, '-->>', data[col].mode()[0])\n",
    "       data[col]=data[col].fillna(data[col].mode()[0], inplace = True)\n",
    "    \n",
    "    if data[col].dtype != 'object':\n",
    "#         print('*'*40, col, '-->>', data[col].dtype, '-->>', data[col].median())\n",
    "      data[col]=data[col].fillna(data[col].median(), inplace = True)"
   ]
  },
  {
   "cell_type": "code",
   "execution_count": 20,
   "id": "1dce56f4",
   "metadata": {},
   "outputs": [
    {
     "data": {
      "text/plain": [
       "name                4340\n",
       "year                4340\n",
       "km_driven           4340\n",
       "fuel                4340\n",
       "seller_type         4340\n",
       "transmission        4340\n",
       "owner               4340\n",
       "Rating              4340\n",
       "ExShowroom Price    4340\n",
       "selling_price       4340\n",
       "dtype: int64"
      ]
     },
     "execution_count": 20,
     "metadata": {},
     "output_type": "execute_result"
    }
   ],
   "source": [
    "data.isna().sum()"
   ]
  },
  {
   "cell_type": "markdown",
   "id": "d6d1d952",
   "metadata": {},
   "source": [
    "# Mean, Mode, Median"
   ]
  },
  {
   "cell_type": "code",
   "execution_count": 21,
   "id": "7d87af91",
   "metadata": {},
   "outputs": [
    {
     "ename": "KeyError",
     "evalue": "0",
     "output_type": "error",
     "traceback": [
      "\u001b[1;31m---------------------------------------------------------------------------\u001b[0m",
      "\u001b[1;31mValueError\u001b[0m                                Traceback (most recent call last)",
      "\u001b[1;32m~\\anaconda3\\lib\\site-packages\\pandas\\core\\indexes\\range.py\u001b[0m in \u001b[0;36mget_loc\u001b[1;34m(self, key, method, tolerance)\u001b[0m\n\u001b[0;32m    384\u001b[0m                 \u001b[1;32mtry\u001b[0m\u001b[1;33m:\u001b[0m\u001b[1;33m\u001b[0m\u001b[1;33m\u001b[0m\u001b[0m\n\u001b[1;32m--> 385\u001b[1;33m                     \u001b[1;32mreturn\u001b[0m \u001b[0mself\u001b[0m\u001b[1;33m.\u001b[0m\u001b[0m_range\u001b[0m\u001b[1;33m.\u001b[0m\u001b[0mindex\u001b[0m\u001b[1;33m(\u001b[0m\u001b[0mnew_key\u001b[0m\u001b[1;33m)\u001b[0m\u001b[1;33m\u001b[0m\u001b[1;33m\u001b[0m\u001b[0m\n\u001b[0m\u001b[0;32m    386\u001b[0m                 \u001b[1;32mexcept\u001b[0m \u001b[0mValueError\u001b[0m \u001b[1;32mas\u001b[0m \u001b[0merr\u001b[0m\u001b[1;33m:\u001b[0m\u001b[1;33m\u001b[0m\u001b[1;33m\u001b[0m\u001b[0m\n",
      "\u001b[1;31mValueError\u001b[0m: 0 is not in range",
      "\nThe above exception was the direct cause of the following exception:\n",
      "\u001b[1;31mKeyError\u001b[0m                                  Traceback (most recent call last)",
      "\u001b[1;32m~\\AppData\\Local\\Temp\\ipykernel_4548\\3421437182.py\u001b[0m in \u001b[0;36m<module>\u001b[1;34m\u001b[0m\n\u001b[1;32m----> 1\u001b[1;33m \u001b[0mdata\u001b[0m\u001b[1;33m[\u001b[0m\u001b[1;34m'fuel'\u001b[0m\u001b[1;33m]\u001b[0m\u001b[1;33m.\u001b[0m\u001b[0mmode\u001b[0m\u001b[1;33m(\u001b[0m\u001b[1;33m)\u001b[0m\u001b[1;33m[\u001b[0m\u001b[1;36m0\u001b[0m\u001b[1;33m]\u001b[0m\u001b[1;33m\u001b[0m\u001b[1;33m\u001b[0m\u001b[0m\n\u001b[0m",
      "\u001b[1;32m~\\anaconda3\\lib\\site-packages\\pandas\\core\\series.py\u001b[0m in \u001b[0;36m__getitem__\u001b[1;34m(self, key)\u001b[0m\n\u001b[0;32m    956\u001b[0m \u001b[1;33m\u001b[0m\u001b[0m\n\u001b[0;32m    957\u001b[0m         \u001b[1;32melif\u001b[0m \u001b[0mkey_is_scalar\u001b[0m\u001b[1;33m:\u001b[0m\u001b[1;33m\u001b[0m\u001b[1;33m\u001b[0m\u001b[0m\n\u001b[1;32m--> 958\u001b[1;33m             \u001b[1;32mreturn\u001b[0m \u001b[0mself\u001b[0m\u001b[1;33m.\u001b[0m\u001b[0m_get_value\u001b[0m\u001b[1;33m(\u001b[0m\u001b[0mkey\u001b[0m\u001b[1;33m)\u001b[0m\u001b[1;33m\u001b[0m\u001b[1;33m\u001b[0m\u001b[0m\n\u001b[0m\u001b[0;32m    959\u001b[0m \u001b[1;33m\u001b[0m\u001b[0m\n\u001b[0;32m    960\u001b[0m         \u001b[1;32mif\u001b[0m \u001b[0mis_hashable\u001b[0m\u001b[1;33m(\u001b[0m\u001b[0mkey\u001b[0m\u001b[1;33m)\u001b[0m\u001b[1;33m:\u001b[0m\u001b[1;33m\u001b[0m\u001b[1;33m\u001b[0m\u001b[0m\n",
      "\u001b[1;32m~\\anaconda3\\lib\\site-packages\\pandas\\core\\series.py\u001b[0m in \u001b[0;36m_get_value\u001b[1;34m(self, label, takeable)\u001b[0m\n\u001b[0;32m   1067\u001b[0m \u001b[1;33m\u001b[0m\u001b[0m\n\u001b[0;32m   1068\u001b[0m         \u001b[1;31m# Similar to Index.get_value, but we do not fall back to positional\u001b[0m\u001b[1;33m\u001b[0m\u001b[1;33m\u001b[0m\u001b[0m\n\u001b[1;32m-> 1069\u001b[1;33m         \u001b[0mloc\u001b[0m \u001b[1;33m=\u001b[0m \u001b[0mself\u001b[0m\u001b[1;33m.\u001b[0m\u001b[0mindex\u001b[0m\u001b[1;33m.\u001b[0m\u001b[0mget_loc\u001b[0m\u001b[1;33m(\u001b[0m\u001b[0mlabel\u001b[0m\u001b[1;33m)\u001b[0m\u001b[1;33m\u001b[0m\u001b[1;33m\u001b[0m\u001b[0m\n\u001b[0m\u001b[0;32m   1070\u001b[0m         \u001b[1;32mreturn\u001b[0m \u001b[0mself\u001b[0m\u001b[1;33m.\u001b[0m\u001b[0mindex\u001b[0m\u001b[1;33m.\u001b[0m\u001b[0m_get_values_for_loc\u001b[0m\u001b[1;33m(\u001b[0m\u001b[0mself\u001b[0m\u001b[1;33m,\u001b[0m \u001b[0mloc\u001b[0m\u001b[1;33m,\u001b[0m \u001b[0mlabel\u001b[0m\u001b[1;33m)\u001b[0m\u001b[1;33m\u001b[0m\u001b[1;33m\u001b[0m\u001b[0m\n\u001b[0;32m   1071\u001b[0m \u001b[1;33m\u001b[0m\u001b[0m\n",
      "\u001b[1;32m~\\anaconda3\\lib\\site-packages\\pandas\\core\\indexes\\range.py\u001b[0m in \u001b[0;36mget_loc\u001b[1;34m(self, key, method, tolerance)\u001b[0m\n\u001b[0;32m    385\u001b[0m                     \u001b[1;32mreturn\u001b[0m \u001b[0mself\u001b[0m\u001b[1;33m.\u001b[0m\u001b[0m_range\u001b[0m\u001b[1;33m.\u001b[0m\u001b[0mindex\u001b[0m\u001b[1;33m(\u001b[0m\u001b[0mnew_key\u001b[0m\u001b[1;33m)\u001b[0m\u001b[1;33m\u001b[0m\u001b[1;33m\u001b[0m\u001b[0m\n\u001b[0;32m    386\u001b[0m                 \u001b[1;32mexcept\u001b[0m \u001b[0mValueError\u001b[0m \u001b[1;32mas\u001b[0m \u001b[0merr\u001b[0m\u001b[1;33m:\u001b[0m\u001b[1;33m\u001b[0m\u001b[1;33m\u001b[0m\u001b[0m\n\u001b[1;32m--> 387\u001b[1;33m                     \u001b[1;32mraise\u001b[0m \u001b[0mKeyError\u001b[0m\u001b[1;33m(\u001b[0m\u001b[0mkey\u001b[0m\u001b[1;33m)\u001b[0m \u001b[1;32mfrom\u001b[0m \u001b[0merr\u001b[0m\u001b[1;33m\u001b[0m\u001b[1;33m\u001b[0m\u001b[0m\n\u001b[0m\u001b[0;32m    388\u001b[0m             \u001b[0mself\u001b[0m\u001b[1;33m.\u001b[0m\u001b[0m_check_indexing_error\u001b[0m\u001b[1;33m(\u001b[0m\u001b[0mkey\u001b[0m\u001b[1;33m)\u001b[0m\u001b[1;33m\u001b[0m\u001b[1;33m\u001b[0m\u001b[0m\n\u001b[0;32m    389\u001b[0m             \u001b[1;32mraise\u001b[0m \u001b[0mKeyError\u001b[0m\u001b[1;33m(\u001b[0m\u001b[0mkey\u001b[0m\u001b[1;33m)\u001b[0m\u001b[1;33m\u001b[0m\u001b[1;33m\u001b[0m\u001b[0m\n",
      "\u001b[1;31mKeyError\u001b[0m: 0"
     ]
    }
   ],
   "source": [
    "data['fuel'].mode()[0]"
   ]
  },
  {
   "cell_type": "code",
   "execution_count": null,
   "id": "9e396b71",
   "metadata": {},
   "outputs": [],
   "source": [
    "data['km_driven'].median()"
   ]
  },
  {
   "cell_type": "code",
   "execution_count": null,
   "id": "9fb9833c",
   "metadata": {},
   "outputs": [],
   "source": [
    "data['km_driven'].mean()"
   ]
  },
  {
   "cell_type": "markdown",
   "id": "f0361591",
   "metadata": {},
   "source": [
    "# Unique Value Check"
   ]
  },
  {
   "cell_type": "code",
   "execution_count": null,
   "id": "792f8f94",
   "metadata": {},
   "outputs": [],
   "source": [
    "data['dummy_col'] = 'vinay'\n",
    "data.head(2)"
   ]
  },
  {
   "cell_type": "code",
   "execution_count": null,
   "id": "f12a6f77",
   "metadata": {},
   "outputs": [],
   "source": [
    "data['dummy_col'].unique()"
   ]
  },
  {
   "cell_type": "code",
   "execution_count": null,
   "id": "a0fd1e04",
   "metadata": {},
   "outputs": [],
   "source": [
    "for col in data.columns:\n",
    "    if (data[col].nunique() == 1):\n",
    "        del data[col]\n",
    "    elif ((data[col].nunique() == len(data)) & (data[col].dtype == 'object')):\n",
    "        del data[col]"
   ]
  },
  {
   "cell_type": "markdown",
   "id": "cc6e7b10",
   "metadata": {},
   "source": [
    "# Feature Engineering"
   ]
  },
  {
   "cell_type": "code",
   "execution_count": null,
   "id": "96ab833a",
   "metadata": {},
   "outputs": [],
   "source": [
    "for col in data.columns:\n",
    "    print(col, '-->>', data[col].nunique(), '-->>', data[col].dtype)"
   ]
  },
  {
   "cell_type": "markdown",
   "id": "cab01b75",
   "metadata": {},
   "source": [
    "# Object Column Variety reduction --->> Needs to be done manually"
   ]
  },
  {
   "cell_type": "code",
   "execution_count": null,
   "id": "e271dfc9",
   "metadata": {},
   "outputs": [],
   "source": [
    "data['name']"
   ]
  },
  {
   "cell_type": "code",
   "execution_count": null,
   "id": "13422c7e",
   "metadata": {},
   "outputs": [],
   "source": [
    "data['name'].str.split(\" \").str[0]"
   ]
  },
  {
   "cell_type": "code",
   "execution_count": null,
   "id": "10a0518c",
   "metadata": {},
   "outputs": [],
   "source": [
    "data['company_name'] = data['name'].str.split(\" \").str[0]\n",
    "data.head()"
   ]
  },
  {
   "cell_type": "code",
   "execution_count": null,
   "id": "dc25edd3",
   "metadata": {},
   "outputs": [],
   "source": [
    "name = 'Mahendra*Singh*Dhoni'"
   ]
  },
  {
   "cell_type": "code",
   "execution_count": null,
   "id": "6a7ec38c",
   "metadata": {},
   "outputs": [],
   "source": [
    "name.split(\"*\")[2]"
   ]
  },
  {
   "cell_type": "code",
   "execution_count": null,
   "id": "4849cb0a",
   "metadata": {},
   "outputs": [],
   "source": [
    "data['company_name'].nunique()"
   ]
  },
  {
   "cell_type": "markdown",
   "id": "93df426b",
   "metadata": {},
   "source": [
    "# Numerical Columns -->> Automatic feature engineering"
   ]
  },
  {
   "cell_type": "code",
   "execution_count": null,
   "id": "513d329e",
   "metadata": {},
   "outputs": [],
   "source": [
    "round(data.describe(),2)"
   ]
  },
  {
   "cell_type": "code",
   "execution_count": null,
   "id": "f902dd46",
   "metadata": {},
   "outputs": [],
   "source": [
    "range_labels = ['new','medium','high','extreme']\n",
    "range_limits = [0,35000,60000,90000,1000000]\n",
    "\n",
    "data['km_bins'] = pd.cut(data['km_driven'], labels=range_labels, bins = range_limits)\n",
    "data.head()"
   ]
  },
  {
   "cell_type": "code",
   "execution_count": null,
   "id": "cd6c1ff2",
   "metadata": {},
   "outputs": [],
   "source": [
    "# import plotly.express as px"
   ]
  },
  {
   "cell_type": "code",
   "execution_count": null,
   "id": "ef451360",
   "metadata": {},
   "outputs": [],
   "source": [
    "# fig = px.pie(data, names = 'km_bins', values = 'km_driven')\n",
    "# fig.show()"
   ]
  },
  {
   "cell_type": "code",
   "execution_count": null,
   "id": "496a05b6",
   "metadata": {},
   "outputs": [],
   "source": [
    "for col in data.columns:\n",
    "    if data[col].nunique()/len(data) > 0.05:\n",
    "        if data[col].dtype == 'object':\n",
    "            print('Please perform manual feature engineering for -->>', col)\n",
    "        else:\n",
    "            print('Auto Feature Engineering for -->>', col)\n",
    "            new_col_name = col + '_bin'\n",
    "            data[new_col_name] = pd.qcut(data[col],\n",
    "                                         4, \n",
    "                                         labels = ['b1','b2','b3','b4'])"
   ]
  },
  {
   "cell_type": "code",
   "execution_count": null,
   "id": "fd9a264f",
   "metadata": {},
   "outputs": [],
   "source": [
    "data"
   ]
  },
  {
   "cell_type": "markdown",
   "id": "16fc4f68",
   "metadata": {},
   "source": [
    "# Label Encoding"
   ]
  },
  {
   "cell_type": "code",
   "execution_count": null,
   "id": "642d78c2",
   "metadata": {},
   "outputs": [],
   "source": [
    "data['fuel'].unique()"
   ]
  },
  {
   "cell_type": "code",
   "execution_count": null,
   "id": "01de318e",
   "metadata": {},
   "outputs": [],
   "source": [
    "LN = LabelEncoder()"
   ]
  },
  {
   "cell_type": "code",
   "execution_count": null,
   "id": "aec90081",
   "metadata": {},
   "outputs": [],
   "source": [
    "data['fuel'] = LN.fit_transform(data['fuel'])"
   ]
  },
  {
   "cell_type": "code",
   "execution_count": null,
   "id": "44d5952b",
   "metadata": {},
   "outputs": [],
   "source": [
    "data['fuel'].unique()"
   ]
  },
  {
   "cell_type": "code",
   "execution_count": null,
   "id": "5ed1b269",
   "metadata": {},
   "outputs": [],
   "source": [
    "data.info()"
   ]
  },
  {
   "cell_type": "code",
   "execution_count": null,
   "id": "ffd7abf6",
   "metadata": {},
   "outputs": [],
   "source": [
    "data"
   ]
  },
  {
   "cell_type": "code",
   "execution_count": null,
   "id": "39ea9984",
   "metadata": {},
   "outputs": [],
   "source": [
    "for col in data.columns:\n",
    "    if (data[col].dtype == 'object') | (data[col].dtype =='category'):\n",
    "        data[col] = LN.fit_transform(data[col])"
   ]
  },
  {
   "cell_type": "code",
   "execution_count": null,
   "id": "27fd18d0",
   "metadata": {},
   "outputs": [],
   "source": [
    "data"
   ]
  },
  {
   "cell_type": "markdown",
   "id": "af244e07",
   "metadata": {},
   "source": [
    "# Correlation"
   ]
  },
  {
   "cell_type": "code",
   "execution_count": null,
   "id": "c5e0da4e",
   "metadata": {},
   "outputs": [],
   "source": [
    "corr = 100*data.corr()\n",
    "corr.style.background_gradient(cmap = 'coolwarm')"
   ]
  },
  {
   "cell_type": "code",
   "execution_count": null,
   "id": "b4c0922c",
   "metadata": {},
   "outputs": [],
   "source": [
    "data.drop(columns=['name','Rating', 'ExShowroom Price'], inplace=True)"
   ]
  },
  {
   "cell_type": "code",
   "execution_count": null,
   "id": "06ba02ed",
   "metadata": {},
   "outputs": [],
   "source": [
    "corr = 100*data.corr()\n",
    "corr.style.background_gradient(cmap = 'coolwarm')"
   ]
  },
  {
   "cell_type": "markdown",
   "id": "df7b9c7d",
   "metadata": {},
   "source": [
    "# Train Test Split"
   ]
  },
  {
   "cell_type": "code",
   "execution_count": null,
   "id": "3ae37cdf",
   "metadata": {},
   "outputs": [],
   "source": [
    "x = data.drop(columns = 'selling_price')\n",
    "y = data['selling_price']"
   ]
  },
  {
   "cell_type": "code",
   "execution_count": null,
   "id": "77ef7462",
   "metadata": {},
   "outputs": [],
   "source": [
    "x_train, x_test, y_train, y_test = train_test_split(x,y, test_size=0.3, random_state = 1234)"
   ]
  },
  {
   "cell_type": "code",
   "execution_count": null,
   "id": "863c9af8",
   "metadata": {},
   "outputs": [],
   "source": [
    "len(x_train)"
   ]
  },
  {
   "cell_type": "code",
   "execution_count": null,
   "id": "859fb25f",
   "metadata": {},
   "outputs": [],
   "source": [
    "len(y_train)"
   ]
  },
  {
   "cell_type": "markdown",
   "id": "d4450f4e",
   "metadata": {},
   "source": [
    "# Model Development\n",
    "\n",
    "    1. Model Name\n",
    "    2. Training\n",
    "    3. Exam - Predicted Answers\n",
    "    4. Accuracy Check"
   ]
  },
  {
   "cell_type": "markdown",
   "id": "5d138649",
   "metadata": {},
   "source": [
    "##### Step 1. Model Declaration"
   ]
  },
  {
   "cell_type": "code",
   "execution_count": null,
   "id": "3d5f2160",
   "metadata": {},
   "outputs": [],
   "source": [
    "model = LinearRegression()"
   ]
  },
  {
   "cell_type": "markdown",
   "id": "24f5d307",
   "metadata": {},
   "source": [
    "##### Step 2. Model training (fitting)"
   ]
  },
  {
   "cell_type": "code",
   "execution_count": null,
   "id": "5415904e",
   "metadata": {},
   "outputs": [],
   "source": [
    "model.fit(x_train,y_train)"
   ]
  },
  {
   "cell_type": "markdown",
   "id": "c5da1860",
   "metadata": {},
   "source": [
    "##### Step 3. Prediction"
   ]
  },
  {
   "cell_type": "code",
   "execution_count": null,
   "id": "e4b3576f",
   "metadata": {},
   "outputs": [],
   "source": [
    "y_pred = model.predict(x_test)"
   ]
  },
  {
   "cell_type": "code",
   "execution_count": null,
   "id": "165f4f6a",
   "metadata": {},
   "outputs": [],
   "source": [
    "y_pred"
   ]
  },
  {
   "cell_type": "markdown",
   "id": "7129c243",
   "metadata": {},
   "source": [
    "##### Step 4. Accuracy"
   ]
  },
  {
   "cell_type": "code",
   "execution_count": null,
   "id": "e110c198",
   "metadata": {},
   "outputs": [],
   "source": [
    "accuracy = 100* r2_score(y_test, y_pred)\n",
    "accuracy"
   ]
  },
  {
   "cell_type": "markdown",
   "id": "7fd66d1c",
   "metadata": {},
   "source": [
    "# Running all model"
   ]
  },
  {
   "cell_type": "code",
   "execution_count": null,
   "id": "bb375930",
   "metadata": {},
   "outputs": [],
   "source": [
    "models = [LinearRegression(), Lasso(), ElasticNet(), KNeighborsRegressor(),\n",
    "         DecisionTreeRegressor(), RandomForestRegressor(), AdaBoostRegressor(),\n",
    "          GradientBoostingRegressor()]"
   ]
  },
  {
   "cell_type": "code",
   "execution_count": null,
   "id": "015f772e",
   "metadata": {},
   "outputs": [],
   "source": [
    "acc_dic = {} "
   ]
  },
  {
   "cell_type": "code",
   "execution_count": null,
   "id": "2e9787b6",
   "metadata": {},
   "outputs": [],
   "source": [
    "for model in models:\n",
    "    model.fit(x_train,y_train)\n",
    "    y_pred = model.predict(x_test)\n",
    "    accuracy = 100* r2_score(y_test, y_pred)\n",
    "    acc_dic[model] = round(accuracy,2)\n",
    "    "
   ]
  },
  {
   "cell_type": "code",
   "execution_count": null,
   "id": "0dbc1f16",
   "metadata": {},
   "outputs": [],
   "source": [
    "acc_dic"
   ]
  },
  {
   "cell_type": "code",
   "execution_count": null,
   "id": "5a255624",
   "metadata": {},
   "outputs": [],
   "source": []
  }
 ],
 "metadata": {
  "kernelspec": {
   "display_name": "Python 3 (ipykernel)",
   "language": "python",
   "name": "python3"
  },
  "language_info": {
   "codemirror_mode": {
    "name": "ipython",
    "version": 3
   },
   "file_extension": ".py",
   "mimetype": "text/x-python",
   "name": "python",
   "nbconvert_exporter": "python",
   "pygments_lexer": "ipython3",
   "version": "3.9.13"
  }
 },
 "nbformat": 4,
 "nbformat_minor": 5
}
